{
 "cells": [
  {
   "cell_type": "code",
   "execution_count": 1,
   "id": "3908ac17",
   "metadata": {},
   "outputs": [
    {
     "name": "stdout",
     "output_type": "stream",
     "text": [
      "    Petrol_tax  Average_income  Paved_Highways  Population_Driver_licence(%)  \\\n",
      "0         9.00            3571            1976                         0.525   \n",
      "1         9.00            4092            1250                         0.572   \n",
      "2         9.00            3865            1586                         0.580   \n",
      "3         7.50            4870            2351                         0.529   \n",
      "4         8.00            4399             431                         0.544   \n",
      "5        10.00            5342            1333                         0.571   \n",
      "6         8.00            5319           11868                         0.451   \n",
      "7         8.00            5126            2138                         0.553   \n",
      "8         8.00            4447            8577                         0.529   \n",
      "9         7.00            4512            8507                         0.552   \n",
      "10        8.00            4391            5939                         0.530   \n",
      "11        7.50            5126           14186                         0.525   \n",
      "12        7.00            4817            6930                         0.574   \n",
      "13        7.00            4207            6580                         0.545   \n",
      "14        7.00            4332            8159                         0.608   \n",
      "15        7.00            4318           10340                         0.586   \n",
      "16        7.00            4206            8508                         0.572   \n",
      "17        7.00            3718            4725                         0.540   \n",
      "18        7.00            4716            5915                         0.724   \n",
      "19        8.50            4341            6010                         0.677   \n",
      "20        7.00            4593            7834                         0.663   \n",
      "21        8.00            4983             602                         0.602   \n",
      "22        9.00            4897            2449                         0.511   \n",
      "23        9.00            4258            4686                         0.517   \n",
      "24        8.50            4574            2619                         0.551   \n",
      "25        9.00            3721            4746                         0.544   \n",
      "26        8.00            3448            5399                         0.548   \n",
      "27        7.50            3846            9061                         0.579   \n",
      "28        8.00            4188            5975                         0.563   \n",
      "29        9.00            3601            4650                         0.493   \n",
      "30        7.00            3640            6905                         0.518   \n",
      "31        7.00            3333            6594                         0.513   \n",
      "32        8.00            3063            6524                         0.578   \n",
      "33        7.50            3357            4121                         0.547   \n",
      "34        8.00            3528            3495                         0.487   \n",
      "35        6.58            3802            7834                         0.629   \n",
      "36        5.00            4045           17782                         0.566   \n",
      "37        7.00            3897            6385                         0.586   \n",
      "38        8.50            3635            3274                         0.663   \n",
      "39        7.00            4345            3905                         0.672   \n",
      "40        7.00            4449            4639                         0.626   \n",
      "41        7.00            3656            3985                         0.563   \n",
      "42        7.00            4300            3635                         0.603   \n",
      "43        7.00            3745            2611                         0.508   \n",
      "44        6.00            5215            2302                         0.672   \n",
      "45        9.00            4476            3942                         0.571   \n",
      "46        7.00            4296            4083                         0.623   \n",
      "47        7.00            5002            9794                         0.593   \n",
      "\n",
      "    Petrol_Consumption  \n",
      "0                  541  \n",
      "1                  524  \n",
      "2                  561  \n",
      "3                  414  \n",
      "4                  410  \n",
      "5                  457  \n",
      "6                  344  \n",
      "7                  467  \n",
      "8                  464  \n",
      "9                  498  \n",
      "10                 580  \n",
      "11                 471  \n",
      "12                 525  \n",
      "13                 508  \n",
      "14                 566  \n",
      "15                 635  \n",
      "16                 603  \n",
      "17                 714  \n",
      "18                 865  \n",
      "19                 640  \n",
      "20                 649  \n",
      "21                 540  \n",
      "22                 464  \n",
      "23                 547  \n",
      "24                 460  \n",
      "25                 566  \n",
      "26                 577  \n",
      "27                 631  \n",
      "28                 574  \n",
      "29                 534  \n",
      "30                 571  \n",
      "31                 554  \n",
      "32                 577  \n",
      "33                 628  \n",
      "34                 487  \n",
      "35                 644  \n",
      "36                 640  \n",
      "37                 704  \n",
      "38                 648  \n",
      "39                 968  \n",
      "40                 587  \n",
      "41                 699  \n",
      "42                 632  \n",
      "43                 591  \n",
      "44                 782  \n",
      "45                 510  \n",
      "46                 610  \n",
      "47                 524  \n"
     ]
    }
   ],
   "source": [
    "import pandas as pd\n",
    "import numpy as np\n",
    "from sklearn.linear_model import LinearRegression\n",
    "\n",
    "data = pd.read_csv('petrol_consumption.csv')\n",
    "print(data)"
   ]
  },
  {
   "cell_type": "code",
   "execution_count": 2,
   "id": "eeec001f",
   "metadata": {},
   "outputs": [
    {
     "name": "stdout",
     "output_type": "stream",
     "text": [
      "Index(['Petrol_tax', 'Average_income', 'Paved_Highways',\n",
      "       'Population_Driver_licence(%)'],\n",
      "      dtype='object')\n",
      "[[9.0000e+00 3.5710e+03 1.9760e+03 5.2500e-01]\n",
      " [9.0000e+00 4.0920e+03 1.2500e+03 5.7200e-01]\n",
      " [9.0000e+00 3.8650e+03 1.5860e+03 5.8000e-01]\n",
      " [7.5000e+00 4.8700e+03 2.3510e+03 5.2900e-01]\n",
      " [8.0000e+00 4.3990e+03 4.3100e+02 5.4400e-01]\n",
      " [1.0000e+01 5.3420e+03 1.3330e+03 5.7100e-01]\n",
      " [8.0000e+00 5.3190e+03 1.1868e+04 4.5100e-01]\n",
      " [8.0000e+00 5.1260e+03 2.1380e+03 5.5300e-01]\n",
      " [8.0000e+00 4.4470e+03 8.5770e+03 5.2900e-01]\n",
      " [7.0000e+00 4.5120e+03 8.5070e+03 5.5200e-01]\n",
      " [8.0000e+00 4.3910e+03 5.9390e+03 5.3000e-01]\n",
      " [7.5000e+00 5.1260e+03 1.4186e+04 5.2500e-01]\n",
      " [7.0000e+00 4.8170e+03 6.9300e+03 5.7400e-01]\n",
      " [7.0000e+00 4.2070e+03 6.5800e+03 5.4500e-01]\n",
      " [7.0000e+00 4.3320e+03 8.1590e+03 6.0800e-01]\n",
      " [7.0000e+00 4.3180e+03 1.0340e+04 5.8600e-01]\n",
      " [7.0000e+00 4.2060e+03 8.5080e+03 5.7200e-01]\n",
      " [7.0000e+00 3.7180e+03 4.7250e+03 5.4000e-01]\n",
      " [7.0000e+00 4.7160e+03 5.9150e+03 7.2400e-01]\n",
      " [8.5000e+00 4.3410e+03 6.0100e+03 6.7700e-01]\n",
      " [7.0000e+00 4.5930e+03 7.8340e+03 6.6300e-01]\n",
      " [8.0000e+00 4.9830e+03 6.0200e+02 6.0200e-01]\n",
      " [9.0000e+00 4.8970e+03 2.4490e+03 5.1100e-01]\n",
      " [9.0000e+00 4.2580e+03 4.6860e+03 5.1700e-01]\n",
      " [8.5000e+00 4.5740e+03 2.6190e+03 5.5100e-01]\n",
      " [9.0000e+00 3.7210e+03 4.7460e+03 5.4400e-01]\n",
      " [8.0000e+00 3.4480e+03 5.3990e+03 5.4800e-01]\n",
      " [7.5000e+00 3.8460e+03 9.0610e+03 5.7900e-01]\n",
      " [8.0000e+00 4.1880e+03 5.9750e+03 5.6300e-01]\n",
      " [9.0000e+00 3.6010e+03 4.6500e+03 4.9300e-01]\n",
      " [7.0000e+00 3.6400e+03 6.9050e+03 5.1800e-01]\n",
      " [7.0000e+00 3.3330e+03 6.5940e+03 5.1300e-01]\n",
      " [8.0000e+00 3.0630e+03 6.5240e+03 5.7800e-01]\n",
      " [7.5000e+00 3.3570e+03 4.1210e+03 5.4700e-01]\n",
      " [8.0000e+00 3.5280e+03 3.4950e+03 4.8700e-01]\n",
      " [6.5800e+00 3.8020e+03 7.8340e+03 6.2900e-01]\n",
      " [5.0000e+00 4.0450e+03 1.7782e+04 5.6600e-01]\n",
      " [7.0000e+00 3.8970e+03 6.3850e+03 5.8600e-01]\n",
      " [8.5000e+00 3.6350e+03 3.2740e+03 6.6300e-01]\n",
      " [7.0000e+00 4.3450e+03 3.9050e+03 6.7200e-01]\n",
      " [7.0000e+00 4.4490e+03 4.6390e+03 6.2600e-01]\n",
      " [7.0000e+00 3.6560e+03 3.9850e+03 5.6300e-01]\n",
      " [7.0000e+00 4.3000e+03 3.6350e+03 6.0300e-01]\n",
      " [7.0000e+00 3.7450e+03 2.6110e+03 5.0800e-01]\n",
      " [6.0000e+00 5.2150e+03 2.3020e+03 6.7200e-01]\n",
      " [9.0000e+00 4.4760e+03 3.9420e+03 5.7100e-01]\n",
      " [7.0000e+00 4.2960e+03 4.0830e+03 6.2300e-01]\n",
      " [7.0000e+00 5.0020e+03 9.7940e+03 5.9300e-01]] <class 'numpy.ndarray'>\n"
     ]
    }
   ],
   "source": [
    "X = data.iloc[:, [0, 1, 2, 3]]\n",
    "y = data['Petrol_Consumption']\n",
    "\n",
    "X_array = np.array(X)\n",
    "y_array = np.array(y)\n",
    "\n",
    "print(X.columns)\n",
    "print(X_array, type(X_array))"
   ]
  },
  {
   "cell_type": "code",
   "execution_count": 3,
   "id": "603ba854",
   "metadata": {},
   "outputs": [
    {
     "name": "stdout",
     "output_type": "stream",
     "text": [
      "intercept: 377.2911464736752\n",
      "coefficients: [-3.47901492e+01 -6.65887518e-02 -2.42588889e-03  1.33644936e+03] <class 'numpy.ndarray'>\n",
      "\n",
      "Petrol_Consumption = Petrol_tax*(-34.79) + Average_income*(-0.07) + Paved_Highways*(-0.00) + Population_Driver_licence(%)*(1336.45) + 377.29\n"
     ]
    }
   ],
   "source": [
    "lin_reg = LinearRegression()\n",
    "lin_reg.fit(X_array, y_array)\n",
    "\n",
    "print(f\"intercept: {lin_reg.intercept_}\")\n",
    "print(f\"coefficients: {lin_reg.coef_}\", type(lin_reg.coef_))\n",
    "print(f'\\nPetrol_Consumption = Petrol_tax*({lin_reg.coef_[0]:.2f}) + Average_income*({lin_reg.coef_[1]:.2f}) + Paved_Highways*({lin_reg.coef_[2]:.2f}) + Population_Driver_licence(%)*({lin_reg.coef_[3]:.2f}) + {lin_reg.intercept_:.2f}')"
   ]
  },
  {
   "cell_type": "code",
   "execution_count": 5,
   "id": "ae09107f",
   "metadata": {},
   "outputs": [
    {
     "name": "stdout",
     "output_type": "stream",
     "text": [
      "coefficient of determination: 0.6786867115698207\n"
     ]
    },
    {
     "name": "stderr",
     "output_type": "stream",
     "text": [
      "C:\\Users\\MyWork\\AppData\\Local\\Programs\\Python\\Python311\\Lib\\site-packages\\sklearn\\base.py:432: UserWarning: X has feature names, but LinearRegression was fitted without feature names\n",
      "  warnings.warn(\n"
     ]
    }
   ],
   "source": [
    "r_sq = lin_reg.score(X, y)\n",
    "print(f\"coefficient of determination: {r_sq}\")"
   ]
  },
  {
   "cell_type": "code",
   "execution_count": 6,
   "id": "5c45846f",
   "metadata": {},
   "outputs": [
    {
     "name": "stdout",
     "output_type": "stream",
     "text": [
      "\n",
      "mean_absolute_error = 48.78\n",
      "mean_squared_error = 3938.54\n",
      "root mean_squared_error = 62.76\n"
     ]
    }
   ],
   "source": [
    "y_pred = lin_reg.predict(X_array)\n",
    "\n",
    "from sklearn.metrics import mean_absolute_error, mean_squared_error\n",
    "mae = mean_absolute_error(y_array, y_pred)\n",
    "mse = mean_squared_error(y_array, y_pred)\n",
    "rmse = np.sqrt(mse)\n",
    "\n",
    "print(f'\\nmean_absolute_error = {mae:.2f}')\n",
    "print(f'mean_squared_error = {mse:.2f}')\n",
    "print(f'root mean_squared_error = {rmse:.2f}')"
   ]
  }
 ],
 "metadata": {
  "kernelspec": {
   "display_name": "Python 3 (ipykernel)",
   "language": "python",
   "name": "python3"
  },
  "language_info": {
   "codemirror_mode": {
    "name": "ipython",
    "version": 3
   },
   "file_extension": ".py",
   "mimetype": "text/x-python",
   "name": "python",
   "nbconvert_exporter": "python",
   "pygments_lexer": "ipython3",
   "version": "3.11.1"
  }
 },
 "nbformat": 4,
 "nbformat_minor": 5
}
